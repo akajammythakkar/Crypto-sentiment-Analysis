{
 "cells": [
  {
   "cell_type": "markdown",
   "id": "2df18a50",
   "metadata": {},
   "source": [
    "# **Aim:** To predict emotions from a text using Neural Networks"
   ]
  },
  {
   "cell_type": "markdown",
   "id": "4b0621a1",
   "metadata": {},
   "source": [
    "## EDA"
   ]
  },
  {
   "cell_type": "markdown",
   "id": "37f889f6",
   "metadata": {},
   "source": [
    "### Importing Libraries"
   ]
  },
  {
   "cell_type": "code",
   "execution_count": 1,
   "id": "3b6981e9",
   "metadata": {},
   "outputs": [
    {
     "name": "stderr",
     "output_type": "stream",
     "text": [
      "2022-04-24 19:08:33.723764: W tensorflow/stream_executor/platform/default/dso_loader.cc:64] Could not load dynamic library 'libcudart.so.11.0'; dlerror: libcudart.so.11.0: cannot open shared object file: No such file or directory\n",
      "2022-04-24 19:08:33.723788: I tensorflow/stream_executor/cuda/cudart_stub.cc:29] Ignore above cudart dlerror if you do not have a GPU set up on your machine.\n"
     ]
    }
   ],
   "source": [
    "import pandas as pd\n",
    "import matplotlib.pyplot as plt\n",
    "import numpy as np\n",
    "from warnings import filterwarnings\n",
    "import seaborn as sns\n",
    "from nltk.corpus import stopwords\n",
    "stop = stopwords.words('english')\n",
    "from collections import Counter\n",
    "from sklearn.metrics import accuracy_score,r2_score\n",
    "import re\n",
    "import string\n",
    "from wordcloud import WordCloud,STOPWORDS\n",
    "import tensorflow as tf\n",
    "from tensorflow import keras\n",
    "from nltk.stem.snowball import SnowballStemmer\n",
    "from sklearn.feature_extraction.text import CountVectorizer\n",
    "from sklearn import preprocessing\n",
    "import pickle\n",
    "filterwarnings(\"ignore\")"
   ]
  },
  {
   "cell_type": "markdown",
   "id": "964a29cd",
   "metadata": {},
   "source": [
    "### Initializing Dataset"
   ]
  },
  {
   "cell_type": "code",
   "execution_count": 2,
   "id": "42cba7c8",
   "metadata": {},
   "outputs": [],
   "source": [
    "df = pd.read_csv(\"training.csv\")"
   ]
  },
  {
   "cell_type": "code",
   "execution_count": 3,
   "id": "b0acba35",
   "metadata": {},
   "outputs": [],
   "source": [
    "#dropping 1st column\n",
    "df.drop(\"Unnamed: 0\",axis = 1, inplace = True)"
   ]
  },
  {
   "cell_type": "code",
   "execution_count": 4,
   "id": "563d6c12",
   "metadata": {},
   "outputs": [],
   "source": [
    "#Defining function to remove \"#\" and \"@\" \n",
    "def clean_tweet(i):\n",
    "    entity_prefixes = ['@','#']\n",
    "    for separator in  string.punctuation:\n",
    "        if separator not in entity_prefixes :\n",
    "            i = i.replace(separator,' ')\n",
    "    words = []\n",
    "    for word in i.split():\n",
    "        word = word.strip()\n",
    "        if word:\n",
    "            if word[0] not in entity_prefixes:\n",
    "                words.append(word)\n",
    "    return ' '.join(words)"
   ]
  },
  {
   "cell_type": "code",
   "execution_count": 5,
   "id": "e30c2de5",
   "metadata": {},
   "outputs": [],
   "source": [
    "#Removing Hashtags and \"@\"\n",
    "for i in range(0,len(df)):\n",
    "    df[\"Tweet\"][i] = clean_tweet(df[\"Tweet\"][i])"
   ]
  },
  {
   "cell_type": "code",
   "execution_count": 6,
   "id": "c9410ddf",
   "metadata": {},
   "outputs": [],
   "source": [
    "#Removing \"$\"\n",
    "df[\"Tweet\"] = df[\"Tweet\"].str.replace(\"$\",\"\")"
   ]
  },
  {
   "cell_type": "code",
   "execution_count": 7,
   "id": "05d1060a",
   "metadata": {},
   "outputs": [],
   "source": [
    "#Converting everything into small case\n",
    "df['Tweet'] = df['Tweet'].map(lambda text:re.sub('[^a-zA-Z0-9]+', ' ',text)).apply(lambda x: (x.lower()))"
   ]
  },
  {
   "cell_type": "code",
   "execution_count": 8,
   "id": "4f5ec0d3",
   "metadata": {},
   "outputs": [],
   "source": [
    "#Removing Emojis\n",
    "df = df.astype(str).apply(lambda x: x.str.encode('ascii', 'ignore').str.decode('ascii'))"
   ]
  },
  {
   "cell_type": "code",
   "execution_count": 9,
   "id": "88a68974",
   "metadata": {},
   "outputs": [],
   "source": [
    "# Exclude stopwords with Python's list comprehension and pandas.DataFrame.apply.\n",
    "df[\"Tweet\"] = df['Tweet'].apply(lambda x: ' '.join([word for word in x.split() if word not in (stop)]))"
   ]
  },
  {
   "cell_type": "code",
   "execution_count": 10,
   "id": "ec195f98",
   "metadata": {},
   "outputs": [],
   "source": [
    "#Removing the unwanted noise which are not digits or alphabets\n",
    "df['Tweet'] = df['Tweet'].str.replace('\\d+', '')"
   ]
  },
  {
   "cell_type": "markdown",
   "id": "0ab57798",
   "metadata": {},
   "source": [
    "## Initializing Dataset For Neural Network"
   ]
  },
  {
   "cell_type": "markdown",
   "id": "b91aa1dc",
   "metadata": {},
   "source": [
    "### Preparing Dataset For The Model (Data Preprocessing)"
   ]
  },
  {
   "cell_type": "code",
   "execution_count": 11,
   "id": "ebb12b76",
   "metadata": {},
   "outputs": [],
   "source": [
    "# Stemming The Dataset using PorterStemer and making a corpus\n",
    "import nltk\n",
    "from nltk.corpus import stopwords\n",
    "from nltk.stem.porter import PorterStemmer\n",
    "df['Tweet'] = df['Tweet'].map(lambda text:re.sub('[^a-zA-Z0-9]+', ' ',text)).apply(lambda x: (x.lower()).split())\n",
    "ps = PorterStemmer()\n",
    "corpus =df[\"Tweet\"].apply(lambda text_list:' '.join(list(map(lambda word:ps.stem(word),(list(filter(lambda text:text not in set(stopwords.words('english')),text_list)))))))"
   ]
  },
  {
   "cell_type": "code",
   "execution_count": 12,
   "id": "833b1c3e",
   "metadata": {},
   "outputs": [],
   "source": [
    "# Steming every word using SnowballStemmer. \n",
    "stemmer = SnowballStemmer(\"english\")\n",
    "df[\"Tweet\"] = df[\"Tweet\"].apply(lambda x: [stemmer.stem(y) for y in x]) "
   ]
  },
  {
   "cell_type": "code",
   "execution_count": 13,
   "id": "54ccc031",
   "metadata": {},
   "outputs": [],
   "source": [
    "#Vectorizing The Corpus\n",
    "cv = CountVectorizer()\n",
    "words_vectorized = cv.fit_transform(corpus).toarray()"
   ]
  },
  {
   "cell_type": "code",
   "execution_count": 14,
   "id": "be85e39b",
   "metadata": {},
   "outputs": [],
   "source": [
    "#Encoding the Emotions\n",
    "le = preprocessing.LabelEncoder()\n",
    "emotions =le.fit_transform(df[\"Emotion\"])"
   ]
  },
  {
   "cell_type": "code",
   "execution_count": 15,
   "id": "9dd7ca24",
   "metadata": {},
   "outputs": [],
   "source": [
    "# Splitting Dataset into 17690:3000 i.e 17690 for training and 3000 for testing\n",
    "(X_train, y_train) =  words_vectorized[:17690],emotions[:17690]\n",
    "(X_test, y_test)  = words_vectorized[:3000],emotions[:3000]"
   ]
  },
  {
   "cell_type": "code",
   "execution_count": 16,
   "id": "d0ea6ee4",
   "metadata": {},
   "outputs": [
    {
     "name": "stdout",
     "output_type": "stream",
     "text": [
      "Length of X_train: 17690\n",
      "Length of X_test: 3000\n",
      "Length of y_train: 17690\n",
      "Length of y_test: 3000\n"
     ]
    }
   ],
   "source": [
    "#Checking the size of training and testing data\n",
    "print(\"Length of X_train:\",len(X_train))\n",
    "print(\"Length of X_test:\",len(X_test))\n",
    "print(\"Length of y_train:\",len(y_train))\n",
    "print(\"Length of y_test:\",len(y_test))"
   ]
  },
  {
   "cell_type": "markdown",
   "id": "7ea64b70",
   "metadata": {},
   "source": [
    "### Using Keras.Sequential Neural Network"
   ]
  },
  {
   "cell_type": "code",
   "execution_count": 17,
   "id": "dcd84519",
   "metadata": {},
   "outputs": [
    {
     "name": "stderr",
     "output_type": "stream",
     "text": [
      "2022-04-24 19:09:31.088300: W tensorflow/stream_executor/platform/default/dso_loader.cc:64] Could not load dynamic library 'libcuda.so.1'; dlerror: libcuda.so.1: cannot open shared object file: No such file or directory\n",
      "2022-04-24 19:09:31.088415: W tensorflow/stream_executor/cuda/cuda_driver.cc:269] failed call to cuInit: UNKNOWN ERROR (303)\n",
      "2022-04-24 19:09:31.088463: I tensorflow/stream_executor/cuda/cuda_diagnostics.cc:156] kernel driver does not appear to be running on this host (Jammy): /proc/driver/nvidia/version does not exist\n",
      "2022-04-24 19:09:31.088979: I tensorflow/core/platform/cpu_feature_guard.cc:151] This TensorFlow binary is optimized with oneAPI Deep Neural Network Library (oneDNN) to use the following CPU instructions in performance-critical operations:  AVX2 FMA\n",
      "To enable them in other operations, rebuild TensorFlow with the appropriate compiler flags.\n"
     ]
    }
   ],
   "source": [
    "#Designing Architecture of Neural Network\n",
    "model = keras.Sequential([\n",
    "    keras.layers.Dense(10000,input_shape = (12376,), activation='relu'),\n",
    "   \n",
    "    keras.layers.Dense(6, activation = 'softmax'),\n",
    "])"
   ]
  },
  {
   "cell_type": "code",
   "execution_count": 18,
   "id": "60a0c561",
   "metadata": {},
   "outputs": [],
   "source": [
    "#Compiling Neural Network\n",
    "model.compile(optimizer = 'adam',\n",
    "              loss = 'sparse_categorical_crossentropy',\n",
    "              metrics = ['accuracy'])"
   ]
  },
  {
   "cell_type": "code",
   "execution_count": null,
   "id": "fd0f684e",
   "metadata": {
    "scrolled": true
   },
   "outputs": [
    {
     "name": "stderr",
     "output_type": "stream",
     "text": [
      "2022-04-24 19:09:31.960246: W tensorflow/core/framework/cpu_allocator_impl.cc:82] Allocation of 1751451520 exceeds 10% of free system memory.\n"
     ]
    },
    {
     "name": "stdout",
     "output_type": "stream",
     "text": [
      "Epoch 1/128\n",
      "260/553 [=============>................] - ETA: 3:29 - loss: 1.1783 - accuracy: 0.5260"
     ]
    }
   ],
   "source": [
    "#Training Neural Network\n",
    "model.fit(X_train, y_train, epochs = 128)"
   ]
  },
  {
   "cell_type": "code",
   "execution_count": null,
   "id": "43d1ac56",
   "metadata": {},
   "outputs": [],
   "source": [
    "#Predicitng probabilities\n",
    "pred = model.predict(X_test)"
   ]
  },
  {
   "cell_type": "code",
   "execution_count": null,
   "id": "34f3ff73",
   "metadata": {},
   "outputs": [],
   "source": [
    "#Making a list for maximum prbability index\n",
    "y_pred = []\n",
    "for i in pred:\n",
    "    y_pred.append(np.argmax(i))"
   ]
  },
  {
   "cell_type": "code",
   "execution_count": null,
   "id": "9307df55",
   "metadata": {},
   "outputs": [],
   "source": [
    "#Testing Accuracy\n",
    "accuracy_score(y_test,y_pred)"
   ]
  },
  {
   "cell_type": "code",
   "execution_count": null,
   "id": "54a465f9",
   "metadata": {},
   "outputs": [],
   "source": [
    "# Saving the neural network\n",
    "model.save(\"EmotionNeuralNetwork2\")"
   ]
  }
 ],
 "metadata": {
  "kernelspec": {
   "display_name": "Python 3 (ipykernel)",
   "language": "python",
   "name": "python3"
  },
  "language_info": {
   "codemirror_mode": {
    "name": "ipython",
    "version": 3
   },
   "file_extension": ".py",
   "mimetype": "text/x-python",
   "name": "python",
   "nbconvert_exporter": "python",
   "pygments_lexer": "ipython3",
   "version": "3.9.7"
  }
 },
 "nbformat": 4,
 "nbformat_minor": 5
}
